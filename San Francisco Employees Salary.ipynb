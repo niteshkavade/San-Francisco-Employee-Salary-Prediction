{
 "cells": [
  {
   "cell_type": "code",
   "execution_count": 1,
   "id": "5fcbf987",
   "metadata": {},
   "outputs": [],
   "source": [
    "import numpy as np \n",
    "import pandas as pd"
   ]
  },
  {
   "cell_type": "code",
   "execution_count": 2,
   "id": "c98b9228",
   "metadata": {},
   "outputs": [
    {
     "name": "stderr",
     "output_type": "stream",
     "text": [
      "C:\\Users\\nites\\AppData\\Local\\Temp\\ipykernel_18064\\4280927128.py:1: DtypeWarning: Columns (2,3,4,5) have mixed types. Specify dtype option on import or set low_memory=False.\n",
      "  data = pd.read_csv(\"Total.csv\")\n"
     ]
    }
   ],
   "source": [
    "data = pd.read_csv(\"Total.csv\")"
   ]
  },
  {
   "cell_type": "code",
   "execution_count": 3,
   "id": "833c2d2e",
   "metadata": {},
   "outputs": [
    {
     "name": "stdout",
     "output_type": "stream",
     "text": [
      "              EmployeeName                                        JobTitle  \\\n",
      "0           NATHANIEL FORD  GENERAL MANAGER-METROPOLITAN TRANSIT AUTHORITY   \n",
      "1             GARY JIMENEZ                 CAPTAIN III (POLICE DEPARTMENT)   \n",
      "2           ALBERT PARDINI                 CAPTAIN III (POLICE DEPARTMENT)   \n",
      "3        CHRISTOPHER CHONG            WIRE ROPE CABLE MAINTENANCE MECHANIC   \n",
      "4          PATRICK GARDNER    DEPUTY CHIEF OF DEPARTMENT,(FIRE DEPARTMENT)   \n",
      "...                    ...                                             ...   \n",
      "312877     Daniel W Plautz                          Public Service Trainee   \n",
      "312878    David J Thompson                                  Deputy Sheriff   \n",
      "312879  Keiko Weng Yee Lau                          Public Service Trainee   \n",
      "312880          David Wong                                  Deputy Sheriff   \n",
      "312881     Debora E Howard                               Recreation Leader   \n",
      "\n",
      "          BasePay OvertimePay   OtherPay      Benefits   TotalPay  \\\n",
      "0       167411.18         0.0  400184.25  Not Provided  567595.43   \n",
      "1       155966.02   245131.88  137811.38  Not Provided  538909.28   \n",
      "2       212739.13   106088.18    16452.6  Not Provided  335279.91   \n",
      "3         77916.0    56120.71   198306.9  Not Provided  332343.61   \n",
      "4        134401.6      9737.0  182234.59  Not Provided  326373.19   \n",
      "...           ...         ...        ...           ...        ...   \n",
      "312877        0.0         0.0        0.0           0.0       0.00   \n",
      "312878        0.0         0.0        0.0           0.0       0.00   \n",
      "312879        0.0         0.0        0.0           0.0       0.00   \n",
      "312880        0.0         0.0        0.0           0.0       0.00   \n",
      "312881        0.0         0.0        0.0           0.0       0.00   \n",
      "\n",
      "        TotalPayBenefits  Year  \n",
      "0              567595.43  2011  \n",
      "1              538909.28  2011  \n",
      "2              335279.91  2011  \n",
      "3              332343.61  2011  \n",
      "4              326373.19  2011  \n",
      "...                  ...   ...  \n",
      "312877              0.00  2018  \n",
      "312878              0.00  2018  \n",
      "312879              0.00  2018  \n",
      "312880              0.00  2018  \n",
      "312881              0.00  2018  \n",
      "\n",
      "[312882 rows x 9 columns]\n"
     ]
    }
   ],
   "source": [
    "print(data)"
   ]
  },
  {
   "cell_type": "code",
   "execution_count": 4,
   "id": "4e879fe2",
   "metadata": {},
   "outputs": [
    {
     "name": "stdout",
     "output_type": "stream",
     "text": [
      "(312882, 9)\n"
     ]
    }
   ],
   "source": [
    "print(data.shape)"
   ]
  },
  {
   "cell_type": "code",
   "execution_count": 5,
   "id": "7e998c8f",
   "metadata": {},
   "outputs": [
    {
     "data": {
      "text/plain": [
       "Index(['EmployeeName', 'JobTitle', 'BasePay', 'OvertimePay', 'OtherPay',\n",
       "       'Benefits', 'TotalPay', 'TotalPayBenefits', 'Year'],\n",
       "      dtype='object')"
      ]
     },
     "execution_count": 5,
     "metadata": {},
     "output_type": "execute_result"
    }
   ],
   "source": [
    "data.columns"
   ]
  },
  {
   "cell_type": "code",
   "execution_count": 6,
   "id": "3853bdb6",
   "metadata": {},
   "outputs": [
    {
     "name": "stdout",
     "output_type": "stream",
     "text": [
      "<class 'pandas.core.frame.DataFrame'>\n",
      "RangeIndex: 312882 entries, 0 to 312881\n",
      "Data columns (total 9 columns):\n",
      " #   Column            Non-Null Count   Dtype  \n",
      "---  ------            --------------   -----  \n",
      " 0   EmployeeName      312882 non-null  object \n",
      " 1   JobTitle          312882 non-null  object \n",
      " 2   BasePay           312882 non-null  object \n",
      " 3   OvertimePay       312882 non-null  object \n",
      " 4   OtherPay          312882 non-null  object \n",
      " 5   Benefits          312882 non-null  object \n",
      " 6   TotalPay          312882 non-null  float64\n",
      " 7   TotalPayBenefits  312882 non-null  float64\n",
      " 8   Year              312882 non-null  int64  \n",
      "dtypes: float64(2), int64(1), object(6)\n",
      "memory usage: 21.5+ MB\n"
     ]
    }
   ],
   "source": [
    "data.info()"
   ]
  },
  {
   "cell_type": "markdown",
   "id": "2fbbcbd0",
   "metadata": {},
   "source": [
    "## Data Cleaning & Preprocessing"
   ]
  },
  {
   "cell_type": "code",
   "execution_count": 7,
   "id": "18492a4f",
   "metadata": {},
   "outputs": [],
   "source": [
    "pay_col = ['BasePay','OvertimePay','OtherPay','Benefits']"
   ]
  },
  {
   "cell_type": "code",
   "execution_count": 8,
   "id": "b8fbf888",
   "metadata": {},
   "outputs": [],
   "source": [
    "def to_number(s):\n",
    "    if pd.isna(s):\n",
    "        return np.nan\n",
    "    \n",
    "    s = str(s).strip()\n",
    "    \n",
    "    if s.lower() in {'not provided','n/a','na','-',''}:\n",
    "        return np.nan\n",
    "    \n",
    "    s = (s.replace('$','')\n",
    "         .replace(',','')\n",
    "         .replace(' ','')\n",
    "         .replace('(','')\n",
    "         .replace(')','')        \n",
    "    )\n",
    "    \n",
    "    try:\n",
    "        return float(s)\n",
    "    except:\n",
    "        return np.nan \n"
   ]
  },
  {
   "cell_type": "code",
   "execution_count": 9,
   "id": "53d6ded0",
   "metadata": {},
   "outputs": [],
   "source": [
    "for c in pay_col:\n",
    "    data[c] = data[c].apply(to_number)"
   ]
  },
  {
   "cell_type": "code",
   "execution_count": 10,
   "id": "47287f94",
   "metadata": {},
   "outputs": [
    {
     "name": "stdout",
     "output_type": "stream",
     "text": [
      "BasePay        float64\n",
      "OvertimePay    float64\n",
      "OtherPay       float64\n",
      "Benefits       float64\n",
      "dtype: object\n"
     ]
    }
   ],
   "source": [
    "print(data[pay_col].dtypes)"
   ]
  },
  {
   "cell_type": "code",
   "execution_count": 11,
   "id": "232251fb",
   "metadata": {},
   "outputs": [
    {
     "name": "stdout",
     "output_type": "stream",
     "text": [
      "BasePay          606\n",
      "OvertimePay        1\n",
      "OtherPay           1\n",
      "Benefits       36160\n",
      "dtype: int64\n"
     ]
    }
   ],
   "source": [
    "print(data[pay_col].isna().sum())"
   ]
  },
  {
   "cell_type": "markdown",
   "id": "3aa4122a",
   "metadata": {},
   "source": [
    "## Handle Missing Values"
   ]
  },
  {
   "cell_type": "code",
   "execution_count": 12,
   "id": "0f462bfd",
   "metadata": {},
   "outputs": [],
   "source": [
    "data['BasePay'] = data['BasePay'].fillna(0.0)\n",
    "\n",
    "data['OtherPay'] = data['OtherPay'].fillna(0.0)\n",
    "\n",
    "data['OvertimePay'] = data['OvertimePay'].fillna(0.0)\n",
    "\n",
    "data['Benefits'] = data['Benefits'].fillna(0.0)"
   ]
  },
  {
   "cell_type": "code",
   "execution_count": 13,
   "id": "4c8f4327",
   "metadata": {},
   "outputs": [
    {
     "name": "stdout",
     "output_type": "stream",
     "text": [
      "BasePay        0\n",
      "OvertimePay    0\n",
      "OtherPay       0\n",
      "Benefits       0\n",
      "dtype: int64\n"
     ]
    }
   ],
   "source": [
    "print(data[pay_col].isna().sum())"
   ]
  },
  {
   "cell_type": "markdown",
   "id": "b51bf5b4",
   "metadata": {},
   "source": [
    "## Clean Text Column"
   ]
  },
  {
   "cell_type": "code",
   "execution_count": 14,
   "id": "efd54c5f",
   "metadata": {},
   "outputs": [],
   "source": [
    "data['JobTitle'] = data['JobTitle'].astype(str).str.strip()\n",
    "\n",
    "data['EmployeeName'] = data['EmployeeName'].astype(str).str.strip()"
   ]
  },
  {
   "cell_type": "code",
   "execution_count": null,
   "id": "3718a233",
   "metadata": {},
   "outputs": [],
   "source": []
  }
 ],
 "metadata": {
  "kernelspec": {
   "display_name": "base",
   "language": "python",
   "name": "python3"
  },
  "language_info": {
   "codemirror_mode": {
    "name": "ipython",
    "version": 3
   },
   "file_extension": ".py",
   "mimetype": "text/x-python",
   "name": "python",
   "nbconvert_exporter": "python",
   "pygments_lexer": "ipython3",
   "version": "3.11.7"
  }
 },
 "nbformat": 4,
 "nbformat_minor": 5
}
