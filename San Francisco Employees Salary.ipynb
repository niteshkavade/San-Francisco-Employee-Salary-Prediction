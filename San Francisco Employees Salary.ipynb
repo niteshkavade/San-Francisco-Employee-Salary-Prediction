{
 "cells": [
  {
   "cell_type": "code",
   "execution_count": 1,
   "id": "5fcbf987",
   "metadata": {},
   "outputs": [],
   "source": [
    "import numpy as np \n",
    "import pandas as pd"
   ]
  },
  {
   "cell_type": "code",
   "execution_count": 2,
   "id": "c98b9228",
   "metadata": {},
   "outputs": [
    {
     "name": "stderr",
     "output_type": "stream",
     "text": [
      "C:\\Users\\nites\\AppData\\Local\\Temp\\ipykernel_18332\\4280927128.py:1: DtypeWarning: Columns (2,3,4,5) have mixed types. Specify dtype option on import or set low_memory=False.\n",
      "  data = pd.read_csv(\"Total.csv\")\n"
     ]
    }
   ],
   "source": [
    "data = pd.read_csv(\"Total.csv\")"
   ]
  },
  {
   "cell_type": "code",
   "execution_count": 3,
   "id": "833c2d2e",
   "metadata": {},
   "outputs": [
    {
     "name": "stdout",
     "output_type": "stream",
     "text": [
      "              EmployeeName                                        JobTitle  \\\n",
      "0           NATHANIEL FORD  GENERAL MANAGER-METROPOLITAN TRANSIT AUTHORITY   \n",
      "1             GARY JIMENEZ                 CAPTAIN III (POLICE DEPARTMENT)   \n",
      "2           ALBERT PARDINI                 CAPTAIN III (POLICE DEPARTMENT)   \n",
      "3        CHRISTOPHER CHONG            WIRE ROPE CABLE MAINTENANCE MECHANIC   \n",
      "4          PATRICK GARDNER    DEPUTY CHIEF OF DEPARTMENT,(FIRE DEPARTMENT)   \n",
      "...                    ...                                             ...   \n",
      "312877     Daniel W Plautz                          Public Service Trainee   \n",
      "312878    David J Thompson                                  Deputy Sheriff   \n",
      "312879  Keiko Weng Yee Lau                          Public Service Trainee   \n",
      "312880          David Wong                                  Deputy Sheriff   \n",
      "312881     Debora E Howard                               Recreation Leader   \n",
      "\n",
      "          BasePay OvertimePay   OtherPay      Benefits   TotalPay  \\\n",
      "0       167411.18         0.0  400184.25  Not Provided  567595.43   \n",
      "1       155966.02   245131.88  137811.38  Not Provided  538909.28   \n",
      "2       212739.13   106088.18    16452.6  Not Provided  335279.91   \n",
      "3         77916.0    56120.71   198306.9  Not Provided  332343.61   \n",
      "4        134401.6      9737.0  182234.59  Not Provided  326373.19   \n",
      "...           ...         ...        ...           ...        ...   \n",
      "312877        0.0         0.0        0.0           0.0       0.00   \n",
      "312878        0.0         0.0        0.0           0.0       0.00   \n",
      "312879        0.0         0.0        0.0           0.0       0.00   \n",
      "312880        0.0         0.0        0.0           0.0       0.00   \n",
      "312881        0.0         0.0        0.0           0.0       0.00   \n",
      "\n",
      "        TotalPayBenefits  Year  \n",
      "0              567595.43  2011  \n",
      "1              538909.28  2011  \n",
      "2              335279.91  2011  \n",
      "3              332343.61  2011  \n",
      "4              326373.19  2011  \n",
      "...                  ...   ...  \n",
      "312877              0.00  2018  \n",
      "312878              0.00  2018  \n",
      "312879              0.00  2018  \n",
      "312880              0.00  2018  \n",
      "312881              0.00  2018  \n",
      "\n",
      "[312882 rows x 9 columns]\n"
     ]
    }
   ],
   "source": [
    "print(data)"
   ]
  },
  {
   "cell_type": "code",
   "execution_count": 4,
   "id": "4e879fe2",
   "metadata": {},
   "outputs": [
    {
     "name": "stdout",
     "output_type": "stream",
     "text": [
      "(312882, 9)\n"
     ]
    }
   ],
   "source": [
    "print(data.shape)"
   ]
  },
  {
   "cell_type": "code",
   "execution_count": 5,
   "id": "7e998c8f",
   "metadata": {},
   "outputs": [
    {
     "data": {
      "text/plain": [
       "Index(['EmployeeName', 'JobTitle', 'BasePay', 'OvertimePay', 'OtherPay',\n",
       "       'Benefits', 'TotalPay', 'TotalPayBenefits', 'Year'],\n",
       "      dtype='object')"
      ]
     },
     "execution_count": 5,
     "metadata": {},
     "output_type": "execute_result"
    }
   ],
   "source": [
    "data.columns"
   ]
  },
  {
   "cell_type": "code",
   "execution_count": 6,
   "id": "3853bdb6",
   "metadata": {},
   "outputs": [
    {
     "name": "stdout",
     "output_type": "stream",
     "text": [
      "<class 'pandas.core.frame.DataFrame'>\n",
      "RangeIndex: 312882 entries, 0 to 312881\n",
      "Data columns (total 9 columns):\n",
      " #   Column            Non-Null Count   Dtype  \n",
      "---  ------            --------------   -----  \n",
      " 0   EmployeeName      312882 non-null  object \n",
      " 1   JobTitle          312882 non-null  object \n",
      " 2   BasePay           312882 non-null  object \n",
      " 3   OvertimePay       312882 non-null  object \n",
      " 4   OtherPay          312882 non-null  object \n",
      " 5   Benefits          312882 non-null  object \n",
      " 6   TotalPay          312882 non-null  float64\n",
      " 7   TotalPayBenefits  312882 non-null  float64\n",
      " 8   Year              312882 non-null  int64  \n",
      "dtypes: float64(2), int64(1), object(6)\n",
      "memory usage: 21.5+ MB\n"
     ]
    }
   ],
   "source": [
    "data.info()"
   ]
  },
  {
   "cell_type": "markdown",
   "id": "2fbbcbd0",
   "metadata": {},
   "source": [
    "## Data Cleaning & Preprocessing"
   ]
  },
  {
   "cell_type": "code",
   "execution_count": 7,
   "id": "18492a4f",
   "metadata": {},
   "outputs": [],
   "source": [
    "pay_col = ['BasePay','OvertimePay','OtherPay','Benefits']"
   ]
  },
  {
   "cell_type": "code",
   "execution_count": 8,
   "id": "b8fbf888",
   "metadata": {},
   "outputs": [],
   "source": [
    "def to_number(s):\n",
    "    if pd.isna(s):\n",
    "        return np.nan\n",
    "    \n",
    "    s = str(s).strip()\n",
    "    \n",
    "    if s.lower() in {'not provided','n/a','na','-',''}:\n",
    "        return np.nan\n",
    "    \n",
    "    s = (s.replace('$','')\n",
    "         .replace(',','')\n",
    "         .replace(' ','')\n",
    "         .replace('(','')\n",
    "         .replace(')','')        \n",
    "    )\n",
    "    \n",
    "    try:\n",
    "        return float(s)\n",
    "    except:\n",
    "        return np.nan \n"
   ]
  },
  {
   "cell_type": "code",
   "execution_count": 9,
   "id": "53d6ded0",
   "metadata": {},
   "outputs": [],
   "source": [
    "for c in pay_col:\n",
    "    data[c] = data[c].apply(to_number)"
   ]
  },
  {
   "cell_type": "code",
   "execution_count": 10,
   "id": "47287f94",
   "metadata": {},
   "outputs": [
    {
     "name": "stdout",
     "output_type": "stream",
     "text": [
      "BasePay        float64\n",
      "OvertimePay    float64\n",
      "OtherPay       float64\n",
      "Benefits       float64\n",
      "dtype: object\n"
     ]
    }
   ],
   "source": [
    "print(data[pay_col].dtypes)"
   ]
  },
  {
   "cell_type": "code",
   "execution_count": 11,
   "id": "232251fb",
   "metadata": {},
   "outputs": [
    {
     "name": "stdout",
     "output_type": "stream",
     "text": [
      "BasePay          606\n",
      "OvertimePay        1\n",
      "OtherPay           1\n",
      "Benefits       36160\n",
      "dtype: int64\n"
     ]
    }
   ],
   "source": [
    "print(data[pay_col].isna().sum())"
   ]
  },
  {
   "cell_type": "markdown",
   "id": "3aa4122a",
   "metadata": {},
   "source": [
    "## Handle Missing Values"
   ]
  },
  {
   "cell_type": "code",
   "execution_count": 12,
   "id": "0f462bfd",
   "metadata": {},
   "outputs": [],
   "source": [
    "data['BasePay'] = data['BasePay'].fillna(0.0)\n",
    "\n",
    "data['OtherPay'] = data['OtherPay'].fillna(0.0)\n",
    "\n",
    "data['OvertimePay'] = data['OvertimePay'].fillna(0.0)\n",
    "\n",
    "data['Benefits'] = data['Benefits'].fillna(0.0)"
   ]
  },
  {
   "cell_type": "code",
   "execution_count": 13,
   "id": "4c8f4327",
   "metadata": {},
   "outputs": [
    {
     "name": "stdout",
     "output_type": "stream",
     "text": [
      "BasePay        0\n",
      "OvertimePay    0\n",
      "OtherPay       0\n",
      "Benefits       0\n",
      "dtype: int64\n"
     ]
    }
   ],
   "source": [
    "print(data[pay_col].isna().sum())"
   ]
  },
  {
   "cell_type": "markdown",
   "id": "b51bf5b4",
   "metadata": {},
   "source": [
    "## Clean Text Column"
   ]
  },
  {
   "cell_type": "code",
   "execution_count": 14,
   "id": "efd54c5f",
   "metadata": {},
   "outputs": [],
   "source": [
    "data['JobTitle'] = data['JobTitle'].astype(str).str.strip()\n",
    "\n",
    "data['EmployeeName'] = data['EmployeeName'].astype(str).str.strip()"
   ]
  },
  {
   "cell_type": "markdown",
   "id": "ddf8a89d",
   "metadata": {},
   "source": [
    "## Exploratory Data Analysis on cleaned data"
   ]
  },
  {
   "cell_type": "markdown",
   "id": "c18a45e6",
   "metadata": {},
   "source": [
    "### Summary & Structure"
   ]
  },
  {
   "cell_type": "code",
   "execution_count": 16,
   "id": "3718a233",
   "metadata": {},
   "outputs": [
    {
     "data": {
      "text/html": [
       "<div>\n",
       "<style scoped>\n",
       "    .dataframe tbody tr th:only-of-type {\n",
       "        vertical-align: middle;\n",
       "    }\n",
       "\n",
       "    .dataframe tbody tr th {\n",
       "        vertical-align: top;\n",
       "    }\n",
       "\n",
       "    .dataframe thead th {\n",
       "        text-align: right;\n",
       "    }\n",
       "</style>\n",
       "<table border=\"1\" class=\"dataframe\">\n",
       "  <thead>\n",
       "    <tr style=\"text-align: right;\">\n",
       "      <th></th>\n",
       "      <th>EmployeeName</th>\n",
       "      <th>JobTitle</th>\n",
       "      <th>BasePay</th>\n",
       "      <th>OvertimePay</th>\n",
       "      <th>OtherPay</th>\n",
       "      <th>Benefits</th>\n",
       "      <th>TotalPay</th>\n",
       "      <th>TotalPayBenefits</th>\n",
       "      <th>Year</th>\n",
       "    </tr>\n",
       "  </thead>\n",
       "  <tbody>\n",
       "    <tr>\n",
       "      <th>0</th>\n",
       "      <td>NATHANIEL FORD</td>\n",
       "      <td>GENERAL MANAGER-METROPOLITAN TRANSIT AUTHORITY</td>\n",
       "      <td>167411.18</td>\n",
       "      <td>0.00</td>\n",
       "      <td>400184.25</td>\n",
       "      <td>0.0</td>\n",
       "      <td>567595.43</td>\n",
       "      <td>567595.43</td>\n",
       "      <td>2011</td>\n",
       "    </tr>\n",
       "    <tr>\n",
       "      <th>1</th>\n",
       "      <td>GARY JIMENEZ</td>\n",
       "      <td>CAPTAIN III (POLICE DEPARTMENT)</td>\n",
       "      <td>155966.02</td>\n",
       "      <td>245131.88</td>\n",
       "      <td>137811.38</td>\n",
       "      <td>0.0</td>\n",
       "      <td>538909.28</td>\n",
       "      <td>538909.28</td>\n",
       "      <td>2011</td>\n",
       "    </tr>\n",
       "    <tr>\n",
       "      <th>2</th>\n",
       "      <td>ALBERT PARDINI</td>\n",
       "      <td>CAPTAIN III (POLICE DEPARTMENT)</td>\n",
       "      <td>212739.13</td>\n",
       "      <td>106088.18</td>\n",
       "      <td>16452.60</td>\n",
       "      <td>0.0</td>\n",
       "      <td>335279.91</td>\n",
       "      <td>335279.91</td>\n",
       "      <td>2011</td>\n",
       "    </tr>\n",
       "    <tr>\n",
       "      <th>3</th>\n",
       "      <td>CHRISTOPHER CHONG</td>\n",
       "      <td>WIRE ROPE CABLE MAINTENANCE MECHANIC</td>\n",
       "      <td>77916.00</td>\n",
       "      <td>56120.71</td>\n",
       "      <td>198306.90</td>\n",
       "      <td>0.0</td>\n",
       "      <td>332343.61</td>\n",
       "      <td>332343.61</td>\n",
       "      <td>2011</td>\n",
       "    </tr>\n",
       "    <tr>\n",
       "      <th>4</th>\n",
       "      <td>PATRICK GARDNER</td>\n",
       "      <td>DEPUTY CHIEF OF DEPARTMENT,(FIRE DEPARTMENT)</td>\n",
       "      <td>134401.60</td>\n",
       "      <td>9737.00</td>\n",
       "      <td>182234.59</td>\n",
       "      <td>0.0</td>\n",
       "      <td>326373.19</td>\n",
       "      <td>326373.19</td>\n",
       "      <td>2011</td>\n",
       "    </tr>\n",
       "  </tbody>\n",
       "</table>\n",
       "</div>"
      ],
      "text/plain": [
       "        EmployeeName                                        JobTitle  \\\n",
       "0     NATHANIEL FORD  GENERAL MANAGER-METROPOLITAN TRANSIT AUTHORITY   \n",
       "1       GARY JIMENEZ                 CAPTAIN III (POLICE DEPARTMENT)   \n",
       "2     ALBERT PARDINI                 CAPTAIN III (POLICE DEPARTMENT)   \n",
       "3  CHRISTOPHER CHONG            WIRE ROPE CABLE MAINTENANCE MECHANIC   \n",
       "4    PATRICK GARDNER    DEPUTY CHIEF OF DEPARTMENT,(FIRE DEPARTMENT)   \n",
       "\n",
       "     BasePay  OvertimePay   OtherPay  Benefits   TotalPay  TotalPayBenefits  \\\n",
       "0  167411.18         0.00  400184.25       0.0  567595.43         567595.43   \n",
       "1  155966.02    245131.88  137811.38       0.0  538909.28         538909.28   \n",
       "2  212739.13    106088.18   16452.60       0.0  335279.91         335279.91   \n",
       "3   77916.00     56120.71  198306.90       0.0  332343.61         332343.61   \n",
       "4  134401.60      9737.00  182234.59       0.0  326373.19         326373.19   \n",
       "\n",
       "   Year  \n",
       "0  2011  \n",
       "1  2011  \n",
       "2  2011  \n",
       "3  2011  \n",
       "4  2011  "
      ]
     },
     "execution_count": 16,
     "metadata": {},
     "output_type": "execute_result"
    }
   ],
   "source": [
    "data.head()"
   ]
  },
  {
   "cell_type": "code",
   "execution_count": 17,
   "id": "a47f3572",
   "metadata": {},
   "outputs": [
    {
     "name": "stdout",
     "output_type": "stream",
     "text": [
      "<class 'pandas.core.frame.DataFrame'>\n",
      "RangeIndex: 312882 entries, 0 to 312881\n",
      "Data columns (total 9 columns):\n",
      " #   Column            Non-Null Count   Dtype  \n",
      "---  ------            --------------   -----  \n",
      " 0   EmployeeName      312882 non-null  object \n",
      " 1   JobTitle          312882 non-null  object \n",
      " 2   BasePay           312882 non-null  float64\n",
      " 3   OvertimePay       312882 non-null  float64\n",
      " 4   OtherPay          312882 non-null  float64\n",
      " 5   Benefits          312882 non-null  float64\n",
      " 6   TotalPay          312882 non-null  float64\n",
      " 7   TotalPayBenefits  312882 non-null  float64\n",
      " 8   Year              312882 non-null  int64  \n",
      "dtypes: float64(6), int64(1), object(2)\n",
      "memory usage: 21.5+ MB\n"
     ]
    }
   ],
   "source": [
    "data.info()"
   ]
  },
  {
   "cell_type": "code",
   "execution_count": 18,
   "id": "b35552b5",
   "metadata": {},
   "outputs": [
    {
     "data": {
      "text/html": [
       "<div>\n",
       "<style scoped>\n",
       "    .dataframe tbody tr th:only-of-type {\n",
       "        vertical-align: middle;\n",
       "    }\n",
       "\n",
       "    .dataframe tbody tr th {\n",
       "        vertical-align: top;\n",
       "    }\n",
       "\n",
       "    .dataframe thead th {\n",
       "        text-align: right;\n",
       "    }\n",
       "</style>\n",
       "<table border=\"1\" class=\"dataframe\">\n",
       "  <thead>\n",
       "    <tr style=\"text-align: right;\">\n",
       "      <th></th>\n",
       "      <th>BasePay</th>\n",
       "      <th>OvertimePay</th>\n",
       "      <th>OtherPay</th>\n",
       "      <th>Benefits</th>\n",
       "      <th>TotalPay</th>\n",
       "      <th>TotalPayBenefits</th>\n",
       "      <th>Year</th>\n",
       "    </tr>\n",
       "  </thead>\n",
       "  <tbody>\n",
       "    <tr>\n",
       "      <th>count</th>\n",
       "      <td>312882.000000</td>\n",
       "      <td>312882.000000</td>\n",
       "      <td>312882.000000</td>\n",
       "      <td>312882.000000</td>\n",
       "      <td>312882.000000</td>\n",
       "      <td>312882.000000</td>\n",
       "      <td>312882.000000</td>\n",
       "    </tr>\n",
       "    <tr>\n",
       "      <th>mean</th>\n",
       "      <td>69673.050600</td>\n",
       "      <td>5668.911274</td>\n",
       "      <td>3460.683913</td>\n",
       "      <td>22125.693989</td>\n",
       "      <td>78802.645788</td>\n",
       "      <td>100928.339777</td>\n",
       "      <td>2014.625303</td>\n",
       "    </tr>\n",
       "    <tr>\n",
       "      <th>std</th>\n",
       "      <td>45436.746729</td>\n",
       "      <td>12745.638970</td>\n",
       "      <td>7387.253906</td>\n",
       "      <td>16289.184099</td>\n",
       "      <td>53230.758542</td>\n",
       "      <td>66485.186495</td>\n",
       "      <td>2.290899</td>\n",
       "    </tr>\n",
       "    <tr>\n",
       "      <th>min</th>\n",
       "      <td>-474.400000</td>\n",
       "      <td>-292.800000</td>\n",
       "      <td>-7058.590000</td>\n",
       "      <td>-13939.420000</td>\n",
       "      <td>-618.130000</td>\n",
       "      <td>-3628.780000</td>\n",
       "      <td>2011.000000</td>\n",
       "    </tr>\n",
       "    <tr>\n",
       "      <th>25%</th>\n",
       "      <td>35342.125000</td>\n",
       "      <td>0.000000</td>\n",
       "      <td>0.000000</td>\n",
       "      <td>2079.272500</td>\n",
       "      <td>38803.000000</td>\n",
       "      <td>48955.072500</td>\n",
       "      <td>2013.000000</td>\n",
       "    </tr>\n",
       "    <tr>\n",
       "      <th>50%</th>\n",
       "      <td>67645.970000</td>\n",
       "      <td>0.000000</td>\n",
       "      <td>728.000000</td>\n",
       "      <td>26771.565000</td>\n",
       "      <td>74908.790000</td>\n",
       "      <td>100011.290000</td>\n",
       "      <td>2015.000000</td>\n",
       "    </tr>\n",
       "    <tr>\n",
       "      <th>75%</th>\n",
       "      <td>99236.202500</td>\n",
       "      <td>5223.115000</td>\n",
       "      <td>3958.680000</td>\n",
       "      <td>34288.847500</td>\n",
       "      <td>111386.897500</td>\n",
       "      <td>142376.300000</td>\n",
       "      <td>2017.000000</td>\n",
       "    </tr>\n",
       "    <tr>\n",
       "      <th>max</th>\n",
       "      <td>592394.340000</td>\n",
       "      <td>309481.030000</td>\n",
       "      <td>400184.250000</td>\n",
       "      <td>125891.730000</td>\n",
       "      <td>592394.340000</td>\n",
       "      <td>712802.360000</td>\n",
       "      <td>2018.000000</td>\n",
       "    </tr>\n",
       "  </tbody>\n",
       "</table>\n",
       "</div>"
      ],
      "text/plain": [
       "             BasePay    OvertimePay       OtherPay       Benefits  \\\n",
       "count  312882.000000  312882.000000  312882.000000  312882.000000   \n",
       "mean    69673.050600    5668.911274    3460.683913   22125.693989   \n",
       "std     45436.746729   12745.638970    7387.253906   16289.184099   \n",
       "min      -474.400000    -292.800000   -7058.590000  -13939.420000   \n",
       "25%     35342.125000       0.000000       0.000000    2079.272500   \n",
       "50%     67645.970000       0.000000     728.000000   26771.565000   \n",
       "75%     99236.202500    5223.115000    3958.680000   34288.847500   \n",
       "max    592394.340000  309481.030000  400184.250000  125891.730000   \n",
       "\n",
       "            TotalPay  TotalPayBenefits           Year  \n",
       "count  312882.000000     312882.000000  312882.000000  \n",
       "mean    78802.645788     100928.339777    2014.625303  \n",
       "std     53230.758542      66485.186495       2.290899  \n",
       "min      -618.130000      -3628.780000    2011.000000  \n",
       "25%     38803.000000      48955.072500    2013.000000  \n",
       "50%     74908.790000     100011.290000    2015.000000  \n",
       "75%    111386.897500     142376.300000    2017.000000  \n",
       "max    592394.340000     712802.360000    2018.000000  "
      ]
     },
     "execution_count": 18,
     "metadata": {},
     "output_type": "execute_result"
    }
   ],
   "source": [
    "data.describe()"
   ]
  },
  {
   "cell_type": "markdown",
   "id": "ca765bbf",
   "metadata": {},
   "source": [
    "### Distribution of Pay columns"
   ]
  },
  {
   "cell_type": "code",
   "execution_count": 20,
   "id": "30ebab48",
   "metadata": {},
   "outputs": [],
   "source": [
    "import matplotlib.pyplot as plt"
   ]
  },
  {
   "cell_type": "code",
   "execution_count": 23,
   "id": "abd4afe8",
   "metadata": {},
   "outputs": [
    {
     "data": {
      "image/png": "[encoded data removed]",
      "text/plain": [
       "<Figure size 1200x800 with 6 Axes>"
      ]
     },
     "metadata": {},
     "output_type": "display_data"
    }
   ],
   "source": [
    "pay_cols = ['BasePay','OvertimePay','OtherPay','Benefits','TotalPay','TotalPayBenefits']\n",
    "\n",
    "data[pay_cols].hist(bins=50,figsize=(12,8))\n",
    "plt.suptitle(\"Pay Distribution Histogram\")\n",
    "plt.show()"
   ]
  },
  {
   "cell_type": "code",
   "execution_count": null,
   "id": "afac78c6",
   "metadata": {},
   "outputs": [],
   "source": []
  }
 ],
 "metadata": {
  "kernelspec": {
   "display_name": "base",
   "language": "python",
   "name": "python3"
  },
  "language_info": {
   "codemirror_mode": {
    "name": "ipython",
    "version": 3
   },
   "file_extension": ".py",
   "mimetype": "text/x-python",
   "name": "python",
   "nbconvert_exporter": "python",
   "pygments_lexer": "ipython3",
   "version": "3.11.7"
  }
 },
 "nbformat": 4,
 "nbformat_minor": 5
}
